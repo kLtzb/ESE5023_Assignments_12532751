{
 "cells": [
  {
   "cell_type": "code",
   "execution_count": 7,
   "id": "59faa396-aa26-4531-98a8-7e6f7a79e7cf",
   "metadata": {},
   "outputs": [
    {
     "name": "stdout",
     "output_type": "stream",
     "text": [
      "The value is -135.\n"
     ]
    }
   ],
   "source": [
    "import random\n",
    "from math import *\n",
    "from math import ceil \n",
    "import numpy as np \n",
    "import matplotlib.pyplot as plt\n",
    "import itertools\n",
    "\n",
    "# 1. Flowchart\n",
    "def Print_values(a,b,c):\n",
    "    \n",
    "    a = int(a)\n",
    "    b = int(b)\n",
    "    c = int(c)  \n",
    "    \n",
    "    while a > b :\n",
    "        if b > c :\n",
    "            print(\"No value to print.\")\n",
    "            break\n",
    "        else :\n",
    "            x = c\n",
    "            y = b\n",
    "            z = a\n",
    "            result = x+y-10*z\n",
    "            print(\"The value is \"+ str(result) + \".\")\n",
    "            break   \n",
    "    while a <= b :        \n",
    "        if b > c :\n",
    "            x = a\n",
    "            y = b\n",
    "            z = c\n",
    "        if (b <= c)&(a > c) :\n",
    "            x = c\n",
    "            y = a\n",
    "            z = b\n",
    "        else :\n",
    "            x = a\n",
    "            y = c\n",
    "            z = b\n",
    "        result = x+y-10*z\n",
    "        print(\"The value is \"+ str(result) + \".\")\n",
    "        break\n",
    "Print_values(\"5\",\"15\",\"10\")\n",
    "#The value is -135."
   ]
  },
  {
   "cell_type": "code",
   "execution_count": 9,
   "id": "78eb1861-f285-4c22-a5d7-a5dd1181d719",
   "metadata": {},
   "outputs": [
    {
     "name": "stdin",
     "output_type": "stream",
     "text": [
      "How many numbers do you want in the list:  5\n",
      "How large do you want the number can be:  10\n"
     ]
    },
    {
     "name": "stdout",
     "output_type": "stream",
     "text": [
      "The list is [1, 1, 8, 2, 7]\n",
      "The value of continuous ceiling function is: [1, 1, 23, 5, 21]\n"
     ]
    }
   ],
   "source": [
    "# 2. Continuous celing function\n",
    "#resources: \n",
    "#1.https://zhuanlan.zhihu.com/p/626462316\n",
    "#2.https://www.delftstack.com/zh/howto/python/sort-list-by-another-list-python/\n",
    "#define the list filled with positive integers in a given range\n",
    "N = int(input(\"How many numbers do you want in the list: \"))\n",
    "A = int(input(\"How large do you want the number can be: \"))\n",
    "#example:\n",
    "# N = 10\n",
    "# A = 15\n",
    "my_list = []\n",
    "for i in range(N):\n",
    "    my_list.append(random.randint(1,A))\n",
    "print(\"The list is \" + str(my_list))\n",
    "\n",
    "value_x = [0] * A\n",
    "value_list = []\n",
    "cp_list = sorted(my_list)\n",
    "for x in range(A+1):\n",
    "    if x == 1:\n",
    "        value_x[x-1] = 1\n",
    "        continue\n",
    "    elif (x%3 != 0) :\n",
    "        value_x[0] = 1\n",
    "        y = int(ceil(x/3))\n",
    "        value_x[x-1] = value_x[y-1] + x*2\n",
    "    else:\n",
    "        y = int(x/3)\n",
    "        value_x[x-1] = value_x[y-1] + x*2 \n",
    "\n",
    "for x1 in my_list:\n",
    "    value_list.append(value_x[x1-1]) \n",
    "print(\"The value of continuous ceiling function is: \" + str(value_list)) "
   ]
  },
  {
   "cell_type": "code",
   "execution_count": 10,
   "id": "e4839e0f-d5db-4d4d-a95b-32f6fef6b0f9",
   "metadata": {},
   "outputs": [
    {
     "name": "stdout",
     "output_type": "stream",
     "text": [
      "()\n",
      "35 yields the maximum of.\n"
     ]
    }
   ],
   "source": [
    "# 3. Dice rolling\n",
    "#3.1\n",
    "#resources:\n",
    "#https://tutorialspoint.org.cn/program-to-count-number-of-ways-we-can-throw-n-dices-in-python\n",
    "def Find_number_of_ways(x):\n",
    "    \n",
    "    if x < 10 or x > 60:\n",
    "        return 0\n",
    "    # dp[i][j] \n",
    "    n = 10\n",
    "    dp = [[0] * (x + 1) for _ in range(11)]    \n",
    "    for m in range(1, 7):\n",
    "        if m <= x:\n",
    "            dp[1][m] = 1         \n",
    "    for i in range(2,11):\n",
    "        for j in range(i,min(i*6, x)+1):\n",
    "            for face in range(1,7):\n",
    "                if j - face >= 1:                    \n",
    "                    dp[i][j] += dp[i-1][j - face]\n",
    "                    \n",
    "    return dp[n][x]\n",
    "solution = ()\n",
    "print(solution)\n",
    "#example: Find_number_of_ways(12)\n",
    "#3.2   \n",
    "Number_of_ways = []\n",
    "for x in range(10,61):\n",
    "    Number_of_ways.append(Find_number_of_ways(x))\n",
    "#x is starting from 10\n",
    "print(str(Number_of_ways.index(max(Number_of_ways))+10) + \" yields the maximum of.\")\n",
    "#plt.plot(Number_of_ways)"
   ]
  },
  {
   "cell_type": "code",
   "execution_count": 14,
   "id": "14a62a7f-abb1-47bd-b76d-4d20047c252b",
   "metadata": {},
   "outputs": [
    {
     "name": "stdout",
     "output_type": "stream",
     "text": [
      "()\n"
     ]
    }
   ],
   "source": [
    "# 4. Dynamic programming\n",
    "#4.1\n",
    "def Random_integer(N):\n",
    "    return [random.randint(0, 10) for _ in range(N)]\n",
    "w = ()\n",
    "print(w)"
   ]
  },
  {
   "cell_type": "code",
   "execution_count": 12,
   "id": "42ee8047-1046-4939-8a57-074d7f54a2d7",
   "metadata": {},
   "outputs": [],
   "source": [
    "#4.2   \n",
    "#resource: https://blog.csdn.net/weixin_43509127/article/details/104394075 \n",
    "def Sum_averages(arra):\n",
    "    subsets = []\n",
    "    arra1 = set[arra]\n",
    "    for k in range(N):\n",
    "        k = 2\n",
    "        subset = list(itertools.combinations(arra1, k))\n",
    "        ave = np.mean(subset)\n",
    "        subsets.append(subset)\n",
    "    print(subsets)"
   ]
  },
  {
   "cell_type": "code",
   "execution_count": 17,
   "id": "ddc788d7-1562-4f5a-99e7-6595e0fcbef6",
   "metadata": {},
   "outputs": [
    {
     "name": "stdout",
     "output_type": "stream",
     "text": [
      "The average count of paths is : 0.465\n"
     ]
    }
   ],
   "source": [
    "# 5. Path counting\n",
    "#5.1\n",
    "def matrix(N,M):     \n",
    "    a = np.random.randint(2, size = N*M).reshape(N,M)\n",
    "    a[0,0]=a[N-1,M-1] = 1\n",
    "    return a\n",
    "\n",
    "#5.2\n",
    "#source:https://zhuanlan.zhihu.com/p/43358393\n",
    "def Count_path(a):\n",
    "    N = len(a)\n",
    "    M = len(a[0])    \n",
    "    count = [[0] * M for _ in range(N)]\n",
    "    if a[0][0] == 1:\n",
    "        count[0][0] = 1\n",
    "    for i in range(N):\n",
    "        for j in range(M):\n",
    "            if a[i][j] == 0:\n",
    "                continue\n",
    "            if (i != 0) or (j != 0):\n",
    "                top = count[i-1][j] if i > 0 else 0\n",
    "                left = count[i][j-1] if j > 0 else 0\n",
    "                count[i][j] = top + left\n",
    "    return count[N-1][M-1]\n",
    "\n",
    "#5.3\n",
    "N = 10\n",
    "M = 8\n",
    "path_count = []\n",
    "for x in range(1000):\n",
    "    path_count.append(Count_path(matrix(N,M)))\n",
    "sum = np.sum(path_count)\n",
    "ave = sum/1000\n",
    "\n",
    "print(\"The average count of paths is : \"+ str(ave))"
   ]
  },
  {
   "cell_type": "code",
   "execution_count": null,
   "id": "b3fb60fd-7d6a-42c0-90f1-ff9bae9a6c91",
   "metadata": {},
   "outputs": [],
   "source": []
  }
 ],
 "metadata": {
  "kernelspec": {
   "display_name": "Python 3 (ipykernel)",
   "language": "python",
   "name": "python3"
  },
  "language_info": {
   "codemirror_mode": {
    "name": "ipython",
    "version": 3
   },
   "file_extension": ".py",
   "mimetype": "text/x-python",
   "name": "python",
   "nbconvert_exporter": "python",
   "pygments_lexer": "ipython3",
   "version": "3.13.5"
  }
 },
 "nbformat": 4,
 "nbformat_minor": 5
}
